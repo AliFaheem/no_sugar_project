{
 "cells": [
  {
   "cell_type": "code",
   "execution_count": 36,
   "metadata": {},
   "outputs": [
    {
     "name": "stdout",
     "output_type": "stream",
     "text": [
      "Model trained and saved successfully as 'diabetes_model.pkl'.\n",
      "\n",
      "Feature Importances:\n",
      "Age: 0.0000\n",
      "Weight: 0.0000\n",
      "duration: 0.0000\n",
      "HbA1c: 0.0776\n",
      "Category: 0.9224\n"
     ]
    }
   ],
   "source": [
    "import pandas as pd\n",
    "import joblib\n",
    "from sklearn.tree import DecisionTreeRegressor\n",
    "from sklearn.model_selection import train_test_split\n",
    "\n",
    "# Load data from CSV\n",
    "df = pd.read_csv(\"data/train_data.csv\")\n",
    "\n",
    "# Convert 'Category' column into numerical values\n",
    "category_mapping = {\"Mild\": 0, \"Simple\": 1, \"Complex\": 2}\n",
    "df[\"Category\"] = df[\"Category\"].map(category_mapping)\n",
    "\n",
    "# Selecting relevant columns\n",
    "X = df[[\"Age\", \"Weight\", \"duration\", \"HbA1c\"]]\n",
    "y = df[\"target_days\"]\n",
    "\n",
    "# Train-test split (optional)\n",
    "X_train, X_test, y_train, y_test = train_test_split(X, y, test_size=0.2, random_state=42)\n",
    "\n",
    "# Train Decision Tree model\n",
    "model = DecisionTreeRegressor(random_state=42)\n",
    "model.fit(X_train, y_train)\n",
    "\n",
    "# Save the trained model\n",
    "joblib.dump(model, \"diabetes_model.pkl\")\n",
    "\n",
    "print(\"Model trained and saved successfully as 'diabetes_model.pkl'.\")\n",
    "\n",
    "# Get feature importance\n",
    "feature_importance = model.feature_importances_\n",
    "feature_names = X.columns\n",
    "\n",
    "# Print feature importance\n",
    "print(\"\\nFeature Importances:\")\n",
    "for name, importance in zip(feature_names, feature_importance):\n",
    "    print(f\"{name}: {importance:.4f}\")\n"
   ]
  },
  {
   "cell_type": "code",
   "execution_count": 37,
   "metadata": {},
   "outputs": [
    {
     "name": "stdout",
     "output_type": "stream",
     "text": [
      "Predicted Days for Diabetes Reversal: 90.0\n"
     ]
    }
   ],
   "source": [
    "import pandas as pd\n",
    "import joblib\n",
    "\n",
    "# Function to load model and predict\n",
    "def predict_days(age, weight, duration, hba1c, category):\n",
    "    # Load the saved model\n",
    "    model = joblib.load(\"diabetes_model.pkl\")\n",
    "\n",
    "    # Convert category to numerical value\n",
    "    category_mapping = {\"Mild\": 0, \"Simple\": 1, \"Complex\": 2}\n",
    "    category_num = category_mapping.get(category, -1)  # Default to -1 if unknown\n",
    "\n",
    "    if category_num == -1:\n",
    "        raise ValueError(\"Invalid category. Choose from 'Mild', 'Simple', or 'Complex'.\")\n",
    "\n",
    "    # Create a DataFrame for the new input\n",
    "    new_data = pd.DataFrame({\n",
    "        \"Age\": [age],\n",
    "        \"Weight\": [weight],\n",
    "        \"duration\": [duration],\n",
    "        \"HbA1c\": [hba1c],\n",
    "        \"Category\": [category_num]\n",
    "    })\n",
    "\n",
    "    # Predict\n",
    "    prediction = model.predict(new_data)\n",
    "    return prediction[0]\n",
    "\n",
    "# Example usage\n",
    "if __name__ == \"__main__\":\n",
    "    age = 15\n",
    "    weight = 50\n",
    "    duration = 5\n",
    "    hba1c = 8.5\n",
    "    category = \"Simple\"  # Change this to \"Simple\" or \"Complex\" as needed\n",
    "    \n",
    "    predicted_days = predict_days(age, weight, duration, hba1c, category)\n",
    "    print(f\"Predicted Days for Diabetes Reversal: {predicted_days}\")\n"
   ]
  },
  {
   "cell_type": "code",
   "execution_count": null,
   "metadata": {},
   "outputs": [],
   "source": []
  }
 ],
 "metadata": {
  "kernelspec": {
   "display_name": "no_sugar",
   "language": "python",
   "name": "python3"
  },
  "language_info": {
   "codemirror_mode": {
    "name": "ipython",
    "version": 3
   },
   "file_extension": ".py",
   "mimetype": "text/x-python",
   "name": "python",
   "nbconvert_exporter": "python",
   "pygments_lexer": "ipython3",
   "version": "3.13.2"
  }
 },
 "nbformat": 4,
 "nbformat_minor": 2
}
